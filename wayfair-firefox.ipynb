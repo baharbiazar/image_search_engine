{
 "cells": [
  {
   "cell_type": "code",
   "execution_count": 1,
   "id": "b26146b5-b015-4fb9-a282-d6212206c018",
   "metadata": {},
   "outputs": [],
   "source": [
    "from pymongo import MongoClient\n",
    "import pprint\n",
    "\n",
    "import pandas as pd\n",
    "import matplotlib.pyplot as plt\n",
    "plt.style.use('fivethirtyeight')\n",
    "\n",
    "import json\n",
    "import time\n",
    "import copy \n",
    "from bson import ObjectId"
   ]
  },
  {
   "cell_type": "code",
   "execution_count": 2,
   "id": "2099dfef",
   "metadata": {},
   "outputs": [],
   "source": [
    "# Connect to the hosted MongoDB instance \n",
    "client = MongoClient('localhost', 27017)"
   ]
  },
  {
   "cell_type": "code",
   "execution_count": 3,
   "id": "8936f410",
   "metadata": {},
   "outputs": [],
   "source": [
    "# create or access already existing database\n",
    "db = client['wayfair'] "
   ]
  },
  {
   "cell_type": "code",
   "execution_count": 8,
   "id": "6280fb84-4933-4069-8ac0-9ef23ba12fed",
   "metadata": {},
   "outputs": [
    {
     "data": {
      "text/plain": [
       "['htmls']"
      ]
     },
     "execution_count": 8,
     "metadata": {},
     "output_type": "execute_result"
    }
   ],
   "source": [
    "db.list_collection_names()"
   ]
  },
  {
   "cell_type": "code",
   "execution_count": 4,
   "id": "5cbae628-c804-4914-ac5c-cd2d69a8c29b",
   "metadata": {},
   "outputs": [],
   "source": [
    "# collection html\n",
    "htmls = db['htmls'] \n",
    "\n",
    "#htmls.insert_one({\"link\":url, 'html': str(soup)})"
   ]
  },
  {
   "cell_type": "code",
   "execution_count": null,
   "id": "3df72b24-f3ab-4daf-9dfb-9b8965d2413a",
   "metadata": {},
   "outputs": [],
   "source": [
    "htmls.delete_many({})"
   ]
  },
  {
   "cell_type": "code",
   "execution_count": null,
   "id": "8e075f83-23ab-4107-a900-53c45063a7ad",
   "metadata": {},
   "outputs": [],
   "source": [
    "htmls.insert_one({\"link\":url, 'html': str(soup)})"
   ]
  },
  {
   "cell_type": "code",
   "execution_count": null,
   "id": "6a829d3f-3a6e-4a49-aa61-11d65fb4b133",
   "metadata": {},
   "outputs": [],
   "source": [
    "#htmls.find_one({})"
   ]
  },
  {
   "cell_type": "markdown",
   "id": "252c644c",
   "metadata": {},
   "source": [
    "## Wayfair parsing"
   ]
  },
  {
   "cell_type": "code",
   "execution_count": null,
   "id": "d982cdfa",
   "metadata": {},
   "outputs": [],
   "source": [
    "#wayfair_url = 'https://www.wayfair.com/furniture/sb0/accent-chairs-c416225.html'\n",
    "#r = requests.get(wayfair_url)\n",
    "#r"
   ]
  },
  {
   "cell_type": "code",
   "execution_count": null,
   "id": "b554d5c2",
   "metadata": {},
   "outputs": [],
   "source": [
    "#soup = BeautifulSoup(r.text, 'html.parser')"
   ]
  },
  {
   "cell_type": "code",
   "execution_count": null,
   "id": "406e2dfe",
   "metadata": {},
   "outputs": [],
   "source": [
    "#soup.find_all('ProductCard-container')"
   ]
  },
  {
   "cell_type": "code",
   "execution_count": null,
   "id": "1c731a31",
   "metadata": {},
   "outputs": [],
   "source": [
    "#soup.find_all('div', class_= 'ProductCard-container')"
   ]
  },
  {
   "cell_type": "code",
   "execution_count": null,
   "id": "89f0f472",
   "metadata": {},
   "outputs": [],
   "source": [
    "#soup.select('ProductCard-container')"
   ]
  },
  {
   "cell_type": "code",
   "execution_count": null,
   "id": "a7ae2c8b",
   "metadata": {},
   "outputs": [],
   "source": [
    "#pip install selenium"
   ]
  },
  {
   "cell_type": "code",
   "execution_count": 5,
   "id": "295bf0cd-0ab0-4231-a37f-d0b99d353f88",
   "metadata": {},
   "outputs": [],
   "source": [
    "from time import sleep\n",
    "from bs4 import BeautifulSoup as bs\n",
    "from selenium import webdriver\n",
    "from selenium.webdriver.common.by import By\n",
    "import requests"
   ]
  },
  {
   "cell_type": "code",
   "execution_count": null,
   "id": "f2dc7163",
   "metadata": {},
   "outputs": [],
   "source": [
    "400*56"
   ]
  },
  {
   "cell_type": "code",
   "execution_count": null,
   "id": "46e63d92",
   "metadata": {},
   "outputs": [],
   "source": [
    "from time import sleep\n",
    "from bs4 import BeautifulSoup as bs\n",
    "from selenium import webdriver\n",
    "from selenium.webdriver.common.by import By\n",
    "import requests\n",
    "\n",
    "driver = webdriver.Remote(\n",
    "            command_executor='http://localhost:4444/wd/hub',\n",
    "            desired_capabilities={\n",
    "                'browserName': 'firefox',\n",
    "                'javascriptEnabled': True\n",
    "            }\n",
    "        )\n",
    "\n",
    "driver.get('https://www.wayfair.com/')\n",
    "driver.save_screenshot('hello_wayfair.png')\n",
    "\n",
    "\n",
    "driver.close()"
   ]
  },
  {
   "cell_type": "code",
   "execution_count": null,
   "id": "f6c2ab24-fada-4b0c-ab32-5c0d4ea9d133",
   "metadata": {},
   "outputs": [],
   "source": [
    "#driver.get(url)\n",
    "##sleep(4)\n",
    "\n",
    "#soup = bs(driver.page_source, 'html.parser')\n",
    "\n",
    "#driver.close()"
   ]
  },
  {
   "cell_type": "code",
   "execution_count": null,
   "id": "5fa93c74-5f57-44c1-8996-c819982b2eb6",
   "metadata": {},
   "outputs": [],
   "source": [
    "#while true:\n",
    "    # get pages \n",
    "    \n",
    "#........"
   ]
  },
  {
   "cell_type": "code",
   "execution_count": null,
   "id": "06c9ac54-6e2a-4680-b10c-9dbb87c8fb1b",
   "metadata": {},
   "outputs": [],
   "source": [
    "#soup"
   ]
  },
  {
   "cell_type": "code",
   "execution_count": null,
   "id": "142e178f-88fb-4d90-b7cf-e09bb5288752",
   "metadata": {},
   "outputs": [],
   "source": [
    "len(soup.find_all('div' , class_= 'ProductCard-container'))"
   ]
  },
  {
   "cell_type": "code",
   "execution_count": null,
   "id": "33ec5f75-cacf-4c10-82c6-ee6303a8f602",
   "metadata": {},
   "outputs": [],
   "source": [
    "soup.find_all('div' , class_= 'ProductCard-container')[2].a['href']"
   ]
  },
  {
   "cell_type": "code",
   "execution_count": null,
   "id": "6511004e-8bfa-48da-aaf9-a5046dcaf8c5",
   "metadata": {},
   "outputs": [],
   "source": [
    "test = soup.find_all('div' , class_= 'ProductCard-container')[0]\n",
    "#test.find_all('img')\n",
    "#test.img\n",
    "image= test.img['src'] # this grabs the attribute"
   ]
  },
  {
   "cell_type": "code",
   "execution_count": null,
   "id": "34bc0063-5c35-48d8-b82f-4f2a5e98234f",
   "metadata": {},
   "outputs": [],
   "source": [
    "r = requests.get(image)\n",
    "r"
   ]
  },
  {
   "cell_type": "code",
   "execution_count": null,
   "id": "684da087-3fe9-4c95-882a-0e32faac5418",
   "metadata": {},
   "outputs": [],
   "source": [
    "with open('images2/test.png', \"wb\") as file:\n",
    "    file.write(r.content)"
   ]
  },
  {
   "cell_type": "code",
   "execution_count": null,
   "id": "601cc9f3-06fc-4c25-91f4-133a2b0329a4",
   "metadata": {},
   "outputs": [],
   "source": [
    "def parse_images():\n",
    "    names = []\n",
    "    urls=[]\n",
    "    \n",
    "    \n",
    "    for i in range(1,4):\n",
    "        url = f'https://www.wayfair.com/furniture/sb0/accent-chairs-c416225.html?curpage={i}'\n",
    "        driver = webdriver.Remote(\n",
    "            command_executor='http://localhost:4444/wd/hub',\n",
    "            desired_capabilities={\n",
    "                'browserName': 'firefox',\n",
    "                'javascriptEnabled': True\n",
    "            }\n",
    "        )\n",
    "        driver.get(url)\n",
    "        sleep(1)\n",
    "        soup = bs(driver.page_source, 'html.parser')\n",
    "        driver.close()\n",
    "        \n",
    "        for i in range(1,49):\n",
    "            try:\n",
    "                name = soup.find_all('div' , class_= 'ProductCard-container')[i].a['data-sku']\n",
    "                link= soup.find_all('div' , class_= 'ProductCard-container')[i].a['href']\n",
    "                image= soup.find_all('div' , class_= 'ProductCard-container')[i].img['src']\n",
    "\n",
    "                r=requests.get(image)\n",
    "                with open(f'images4/{name}.png', \"wb\") as file:\n",
    "                    file.write(r.content)\n",
    "\n",
    "                names.append(name)\n",
    "                urls.append(link)\n",
    "            except:\n",
    "                continue\n",
    "        \n",
    "    return names, urls\n",
    "            \n",
    " "
   ]
  },
  {
   "cell_type": "markdown",
   "id": "eb7eeaeb-97d8-4246-a51a-fdcde9cc3d40",
   "metadata": {},
   "source": [
    "## Here"
   ]
  },
  {
   "cell_type": "code",
   "execution_count": 6,
   "id": "9fc22720-e26e-4058-a5e2-5a80c07cb67f",
   "metadata": {},
   "outputs": [
    {
     "data": {
      "text/plain": [
       "<pymongo.results.DeleteResult at 0x7f8ada788c00>"
      ]
     },
     "execution_count": 6,
     "metadata": {},
     "output_type": "execute_result"
    }
   ],
   "source": [
    "htmls.delete_many({})"
   ]
  },
  {
   "cell_type": "code",
   "execution_count": null,
   "id": "ab69c3d1-599f-45c6-ac06-4d987189eb38",
   "metadata": {},
   "outputs": [],
   "source": [
    "def parse_html():\n",
    "    driver = webdriver.Remote(\n",
    "            command_executor='http://localhost:4444/wd/hub',\n",
    "            desired_capabilities={\n",
    "                'browserName': 'firefox',\n",
    "                'javascriptEnabled': True\n",
    "            }\n",
    "        )\n",
    "    \n",
    "   \n",
    "    for i in range(70,75):\n",
    "        try:\n",
    "            url = f'https://www.wayfair.com/furniture/sb0/accent-chairs-c416225.html?curpage={i}'\n",
    "            driver.get(url)\n",
    "            sleep(1)\n",
    "            soup = bs(driver.page_source, 'html.parser')\n",
    "\n",
    "            htmls.insert_one({\"link\":url, 'html': str(soup)})\n",
    "            print(i)\n",
    "\n",
    "        except:\n",
    "            continue\n",
    "        \n",
    "    driver.close()\n",
    "\n",
    "    \n",
    " "
   ]
  },
  {
   "cell_type": "code",
   "execution_count": 7,
   "id": "0af9b391-7ed6-4a36-970a-2ab371ee415a",
   "metadata": {},
   "outputs": [],
   "source": [
    "driver = webdriver.Remote(\n",
    "            command_executor='http://localhost:4444/wd/hub',\n",
    "            desired_capabilities={\n",
    "                'browserName': 'firefox',\n",
    "                'javascriptEnabled': True\n",
    "            }\n",
    "        ) \n",
    "\n",
    "url = f'https://www.wayfair.com/furniture/sb0/accent-chairs-c416225.html?curpage=5'\n",
    "driver.get(url)\n",
    "sleep(5)\n",
    "soup = bs(driver.page_source, 'html.parser')\n",
    "\n",
    "#htmls.insert_one({\"link\":url, 'html': str(soup)})\n",
    "#print(i)\n",
    "driver.close()"
   ]
  },
  {
   "cell_type": "code",
   "execution_count": 10,
   "id": "231edcd4-4b09-4a36-9c36-4d99b7b95264",
   "metadata": {},
   "outputs": [
    {
     "data": {
      "text/plain": [
       "48"
      ]
     },
     "execution_count": 10,
     "metadata": {},
     "output_type": "execute_result"
    }
   ],
   "source": [
    "len(soup.find_all('div' , class_= 'ProductCard-container'))"
   ]
  },
  {
   "cell_type": "code",
   "execution_count": 25,
   "id": "6e3d54ef-0155-4b18-822e-38ff4edbbf22",
   "metadata": {},
   "outputs": [
    {
     "data": {
      "text/plain": [
       "<div class=\"ProductCard-container\" data-hb-id=\"pl_product_card\" id=\"\"><a class=\"ProductCard\" data-click-location=\"product1\" data-codeception-id=\"BrowseProductCard-wrapper\" data-enzyme-id=\"BrowseProductCardWrapper-component\" data-sku=\"LRKM5272\" href=\"https://www.wayfair.com/furniture/pdp/red-barrel-studio-aparna-upholstered-dining-chair-lrkm5272.html\" rel=\"noopener\" target=\"_blank\"><span class=\"StyledBox-owpd5f-0 VisuallyHidden__StyledComponent-y6oepu-0 caGdnG pl-VisuallyHidden\" data-hb-id=\"VisuallyHidden\">Opens in a new tab</span><div class=\"ProductCard-imageWrap\"><div class=\"BrowseProductCardImage\"><div class=\"StyledBox-owpd5f-0 FluidImage__StyledWrapper-sc-1213xt0-0 fxYUuM pl-FluidImage\" data-enzyme-id=\"FluidImage-wrapper\" style=\"padding-bottom:100%\"><img alt=\"Aparna Tufted Side Chair in Beige (Set of 2)\" class=\"StyledBox-owpd5f-0 CoreImage__ShadedImage-sc-1d7xlqk-0 dxmHNu FluidImage__StyledImage-sc-1213xt0-1 dxmIet pl-FluidImage-image pl-CoreImage--shade\" data-codeception-id=\"ImageComponent\" data-hb-id=\"FluidImage\" sizes=\"(min-width: 1440) 25vw, (min-width: 1120) 33vw, 50vw\" src=\"https://secure.img1-fg.wfcdn.com/im/29398003/resize-h310-w310%5Ecompr-r85/5694/56941645/Aparna+Tufted+Side+Chair+in+Beige+%28Set+of+2%29.jpg\" srcset=\"https://secure.img1-fg.wfcdn.com/im/18323821/resize-h160-w160%5Ecompr-r85/5694/56941645/Aparna+Tufted+Side+Chair+in+Beige+%28Set+of+2%29.jpg 160w, https://secure.img1-fg.wfcdn.com/im/29398003/resize-h310-w310%5Ecompr-r85/5694/56941645/Aparna+Tufted+Side+Chair+in+Beige+%28Set+of+2%29.jpg 310w\"/></div><div class=\"StyledBox-owpd5f-0 BoxV2___StyledStyledBox-sc-1wnmyqq-0 hijCo\" data-hb-id=\"BoxV2\"><div class=\"StyledBox-owpd5f-0 BoxV2___StyledStyledBox-sc-1wnmyqq-0 ilXxqZ\" data-enzyme-id=\"BrowseFavoritesButton-visible\" data-hb-id=\"BoxV2\"><div class=\"BrowseFavoritesButton BrowseFavoritesButton--extraPadding\" data-cypress-id=\"BrowseFavoritesButton\"><div class=\"FavoritesButton is-loaded\"><button class=\"StyledBox-owpd5f-0 CircleButton__StyledButton-sc-1waqv6z-1 qcwfV brWJTS pl-CircleButton pl-CircleButton--medium pl-CircleButton--transactionAlt\" data-hb-id=\"CircleButton\" type=\"button\"><div class=\"StyledBox-owpd5f-0 CircleButton__StyledContent-sc-1waqv6z-0 qcwfV jSLgsv pl-CircleButton-content\"><svg aria-label=\"[object Object]\" class=\"pl-BaseIcon BaseIcon pl-BaseIcon--scalable FavoritesButton--iconSkeleton\" data-hb-id=\"pl-icon\" focusable=\"false\" role=\"img\" viewbox=\"2 2 24 24\"><title>Save</title><path d=\"M14 22.5a.51.51 0 01-.36-.15l-7.85-8.14a5.34 5.34 0 01-1.29-3.45A5.2 5.2 0 019.63 5.5 5.08 5.08 0 0114 8.05a5.08 5.08 0 014.37-2.55 5.2 5.2 0 015.13 5.26 5.33 5.33 0 01-1.26 3.42l-7.88 8.17a.51.51 0 01-.36.15zm-4.37-16a4.2 4.2 0 00-4.13 4.26 4.29 4.29 0 001 2.78l7.5 7.74 7.49-7.77a4.26 4.26 0 00-3.12-7 4.12 4.12 0 00-3.89 2.92.53.53 0 01-1 0A4.12 4.12 0 009.63 6.5z\"></path></svg></div></button></div></div></div></div></div></div><div class=\"ProductCard-details ProductCard-details--tall\"><div class=\"ProductCard-options ProductCard-options--sticky\" data-codeception-id=\"BrowseProductCard-wrapper-options\" data-enzyme-id=\"BrowseProductCardWrapper-component-options\"><div class=\"BrowseProductCard-smallStickyOptions\"></div></div><div class=\"ProductCard-header\"><h2 class=\"ProductCard-name\" data-codeception-id=\"BrowseProductCard-wrapper-name\" data-enzyme-id=\"BrowseProductCardWrapper-component-name\">Aparna Tufted Side Chair in Beige (Set of 2)</h2><p class=\"ProductCard-manufacturer\" data-codeception-id=\"BrowseProductCard-wrapper-manufacturer\" data-enzyme-id=\"BrowseProductCardWrapper-component-manufacturer\"><span class=\"ProductCard-byManufacturer\">by<!-- --> </span>Red Barrel Studio®</p></div><div class=\"ProductCard-pricing\"><span class=\"ProductCard-price\">$284.99</span><span class=\"ProductCard-price ProductCard-price--perItem\">($142.50 per item)</span></div><div class=\"ProductCard-reviews\"><div class=\"StyledBox-owpd5f-0 ReviewStars__StyledWrapper-esdkl9-0 fJyZCE pl-ReviewStars\" data-codeception-id=\"BrowseProductCard-wrapper-reviewStars\" data-enzyme-id=\"BrowseProductCardWrapper-component-reviewStars\" data-hb-id=\"ReviewStars\"><div class=\"StyledBox-owpd5f-0 ReviewStars__StyledStars-esdkl9-1 hTBklS pl-ReviewStars-stars\"><div class=\"StyledBox-owpd5f-0 ReviewStars__StyledRating-esdkl9-2 bUsOlD pl-ReviewStars-rating\" data-codeception-id=\"BrowseProductCard-wrapper-reviewStars-rating\" data-enzyme-id=\"BrowseProductCardWrapper-component-reviewStars-rating\" style=\"width:90%\"></div></div><div aria-hidden=\"true\" class=\"StyledBox-owpd5f-0 ReviewStars__StyledReviews-esdkl9-3 jtJcjw pl-ReviewStars-reviews\" data-codeception-id=\"BrowseProductCard-wrapper-reviewStars-reviewCount\" data-enzyme-id=\"BrowseProductCardWrapper-component-reviewStars-reviewCount\">18</div><p class=\"StyledBox-owpd5f-0 VisuallyHidden__StyledComponent-y6oepu-0 caGdnG pl-VisuallyHidden\" data-codeception-id=\"BrowseProductCard-wrapper-reviewStars-a11yLabel\" data-enzyme-id=\"BrowseProductCardWrapper-component-reviewStars-a11yLabel\" data-hb-id=\"VisuallyHidden\">Rated 4.5 out of 5 stars.<!-- -->18 total votes</p></div></div><div class=\"ProductCardShipping\"><div class=\"ShippingHeadline\"><span class=\"ShippingHeadline-text\">Free Shipping</span></div></div></div></a><div class=\"\"><div class=\"pl-Box--mx-1-bp800 pl-Box--defaultColor\" data-hb-id=\"Box\"><div class=\"pl-Box--display-flex pl-Box--mt-0 pl-Box--fd-column pl-Box--jc-flex-end pl-Box--defaultColor\" data-hb-id=\"Box\" style=\"flex-grow:1\"></div></div></div></div>"
      ]
     },
     "execution_count": 25,
     "metadata": {},
     "output_type": "execute_result"
    }
   ],
   "source": [
    "soup.find_all('div' , class_= 'ProductCard-container')[0]"
   ]
  },
  {
   "cell_type": "code",
   "execution_count": 9,
   "id": "e6258db7-8a58-4e87-b8f2-becb6f939c14",
   "metadata": {},
   "outputs": [
    {
     "ename": "TypeError",
     "evalue": "'NoneType' object is not subscriptable",
     "output_type": "error",
     "traceback": [
      "\u001b[0;31m---------------------------------------------------------------------------\u001b[0m",
      "\u001b[0;31mTypeError\u001b[0m                                 Traceback (most recent call last)",
      "\u001b[0;32m<ipython-input-9-d1c79d65e058>\u001b[0m in \u001b[0;36m<module>\u001b[0;34m\u001b[0m\n\u001b[1;32m      1\u001b[0m \u001b[0;32mfor\u001b[0m \u001b[0mi\u001b[0m \u001b[0;32min\u001b[0m \u001b[0mrange\u001b[0m\u001b[0;34m(\u001b[0m\u001b[0;36m0\u001b[0m\u001b[0;34m,\u001b[0m\u001b[0;36m48\u001b[0m\u001b[0;34m)\u001b[0m\u001b[0;34m:\u001b[0m\u001b[0;34m\u001b[0m\u001b[0;34m\u001b[0m\u001b[0m\n\u001b[0;32m----> 2\u001b[0;31m     \u001b[0mimage\u001b[0m \u001b[0;34m=\u001b[0m\u001b[0msoup\u001b[0m\u001b[0;34m.\u001b[0m\u001b[0mfind_all\u001b[0m\u001b[0;34m(\u001b[0m\u001b[0;34m'div'\u001b[0m \u001b[0;34m,\u001b[0m \u001b[0mclass_\u001b[0m\u001b[0;34m=\u001b[0m \u001b[0;34m'ProductCard-container'\u001b[0m\u001b[0;34m)\u001b[0m\u001b[0;34m[\u001b[0m\u001b[0mi\u001b[0m\u001b[0;34m]\u001b[0m\u001b[0;34m.\u001b[0m\u001b[0mimg\u001b[0m\u001b[0;34m[\u001b[0m\u001b[0;34m'src'\u001b[0m\u001b[0;34m]\u001b[0m\u001b[0;34m\u001b[0m\u001b[0;34m\u001b[0m\u001b[0m\n\u001b[0m\u001b[1;32m      3\u001b[0m     \u001b[0mname\u001b[0m \u001b[0;34m=\u001b[0m \u001b[0msoup\u001b[0m\u001b[0;34m.\u001b[0m\u001b[0mfind_all\u001b[0m\u001b[0;34m(\u001b[0m\u001b[0;34m'div'\u001b[0m \u001b[0;34m,\u001b[0m \u001b[0mclass_\u001b[0m\u001b[0;34m=\u001b[0m \u001b[0;34m'ProductCard-container'\u001b[0m\u001b[0;34m)\u001b[0m\u001b[0;34m[\u001b[0m\u001b[0mi\u001b[0m\u001b[0;34m]\u001b[0m\u001b[0;34m.\u001b[0m\u001b[0ma\u001b[0m\u001b[0;34m[\u001b[0m\u001b[0;34m'data-sku'\u001b[0m\u001b[0;34m]\u001b[0m\u001b[0;34m\u001b[0m\u001b[0;34m\u001b[0m\u001b[0m\n\u001b[1;32m      4\u001b[0m     \u001b[0mr\u001b[0m\u001b[0;34m=\u001b[0m\u001b[0mrequests\u001b[0m\u001b[0;34m.\u001b[0m\u001b[0mget\u001b[0m\u001b[0;34m(\u001b[0m\u001b[0mimage\u001b[0m\u001b[0;34m)\u001b[0m\u001b[0;34m\u001b[0m\u001b[0;34m\u001b[0m\u001b[0m\n\u001b[1;32m      5\u001b[0m     \u001b[0;32mwith\u001b[0m \u001b[0mopen\u001b[0m\u001b[0;34m(\u001b[0m\u001b[0;34mf'images6/{name}.png'\u001b[0m\u001b[0;34m,\u001b[0m \u001b[0;34m\"wb\"\u001b[0m\u001b[0;34m)\u001b[0m \u001b[0;32mas\u001b[0m \u001b[0mfile\u001b[0m\u001b[0;34m:\u001b[0m\u001b[0;34m\u001b[0m\u001b[0;34m\u001b[0m\u001b[0m\n",
      "\u001b[0;31mTypeError\u001b[0m: 'NoneType' object is not subscriptable"
     ]
    }
   ],
   "source": [
    "for i in range(0,48):\n",
    "    image =soup.find_all('div' , class_= 'ProductCard-container')[i].img['src']\n",
    "    name = soup.find_all('div' , class_= 'ProductCard-container')[i].a['data-sku']\n",
    "    r=requests.get(image)\n",
    "    with open(f'images6/{name}.png', \"wb\") as file:\n",
    "        file.write(r.content)"
   ]
  },
  {
   "cell_type": "code",
   "execution_count": null,
   "id": "886ffd2d-a531-45dc-a772-fcf574f98118",
   "metadata": {},
   "outputs": [],
   "source": [
    "parse_html()"
   ]
  },
  {
   "cell_type": "code",
   "execution_count": 7,
   "id": "49138cbe-a777-46ec-80c9-7266d445f260",
   "metadata": {},
   "outputs": [
    {
     "ename": "ServerSelectionTimeoutError",
     "evalue": "localhost:27017: timed out, Timeout: 30s, Topology Description: <TopologyDescription id: 6112dcf29a7fdca426e3afc0, topology_type: Single, servers: [<ServerDescription ('localhost', 27017) server_type: Unknown, rtt: None, error=NetworkTimeout('localhost:27017: timed out')>]>",
     "output_type": "error",
     "traceback": [
      "\u001b[0;31m---------------------------------------------------------------------------\u001b[0m",
      "\u001b[0;31mServerSelectionTimeoutError\u001b[0m               Traceback (most recent call last)",
      "\u001b[0;32m<ipython-input-7-098e1d2974fa>\u001b[0m in \u001b[0;36m<module>\u001b[0;34m\u001b[0m\n\u001b[0;32m----> 1\u001b[0;31m \u001b[0mhtmls\u001b[0m\u001b[0;34m.\u001b[0m\u001b[0mcount_documents\u001b[0m\u001b[0;34m(\u001b[0m\u001b[0;34m{\u001b[0m\u001b[0;34m}\u001b[0m\u001b[0;34m)\u001b[0m\u001b[0;34m\u001b[0m\u001b[0;34m\u001b[0m\u001b[0m\n\u001b[0m",
      "\u001b[0;32m~/opt/anaconda3/lib/python3.8/site-packages/pymongo/collection.py\u001b[0m in \u001b[0;36mcount_documents\u001b[0;34m(self, filter, session, **kwargs)\u001b[0m\n\u001b[1;32m   1783\u001b[0m             \u001b[0;32mreturn\u001b[0m \u001b[0mresult\u001b[0m\u001b[0;34m[\u001b[0m\u001b[0;34m'n'\u001b[0m\u001b[0;34m]\u001b[0m\u001b[0;34m\u001b[0m\u001b[0;34m\u001b[0m\u001b[0m\n\u001b[1;32m   1784\u001b[0m \u001b[0;34m\u001b[0m\u001b[0m\n\u001b[0;32m-> 1785\u001b[0;31m         return self.__database.client._retryable_read(\n\u001b[0m\u001b[1;32m   1786\u001b[0m             _cmd, self._read_preference_for(session), session)\n\u001b[1;32m   1787\u001b[0m \u001b[0;34m\u001b[0m\u001b[0m\n",
      "\u001b[0;32m~/opt/anaconda3/lib/python3.8/site-packages/pymongo/mongo_client.py\u001b[0m in \u001b[0;36m_retryable_read\u001b[0;34m(self, func, read_pref, session, address, retryable, exhaust)\u001b[0m\n\u001b[1;32m   1458\u001b[0m         \u001b[0;32mwhile\u001b[0m \u001b[0;32mTrue\u001b[0m\u001b[0;34m:\u001b[0m\u001b[0;34m\u001b[0m\u001b[0;34m\u001b[0m\u001b[0m\n\u001b[1;32m   1459\u001b[0m             \u001b[0;32mtry\u001b[0m\u001b[0;34m:\u001b[0m\u001b[0;34m\u001b[0m\u001b[0;34m\u001b[0m\u001b[0m\n\u001b[0;32m-> 1460\u001b[0;31m                 server = self._select_server(\n\u001b[0m\u001b[1;32m   1461\u001b[0m                     read_pref, session, address=address)\n\u001b[1;32m   1462\u001b[0m                 \u001b[0;32mif\u001b[0m \u001b[0;32mnot\u001b[0m \u001b[0mserver\u001b[0m\u001b[0;34m.\u001b[0m\u001b[0mdescription\u001b[0m\u001b[0;34m.\u001b[0m\u001b[0mretryable_reads_supported\u001b[0m\u001b[0;34m:\u001b[0m\u001b[0;34m\u001b[0m\u001b[0;34m\u001b[0m\u001b[0m\n",
      "\u001b[0;32m~/opt/anaconda3/lib/python3.8/site-packages/pymongo/mongo_client.py\u001b[0m in \u001b[0;36m_select_server\u001b[0;34m(self, server_selector, session, address)\u001b[0m\n\u001b[1;32m   1276\u001b[0m                                         % address)\n\u001b[1;32m   1277\u001b[0m             \u001b[0;32melse\u001b[0m\u001b[0;34m:\u001b[0m\u001b[0;34m\u001b[0m\u001b[0;34m\u001b[0m\u001b[0m\n\u001b[0;32m-> 1278\u001b[0;31m                 \u001b[0mserver\u001b[0m \u001b[0;34m=\u001b[0m \u001b[0mtopology\u001b[0m\u001b[0;34m.\u001b[0m\u001b[0mselect_server\u001b[0m\u001b[0;34m(\u001b[0m\u001b[0mserver_selector\u001b[0m\u001b[0;34m)\u001b[0m\u001b[0;34m\u001b[0m\u001b[0;34m\u001b[0m\u001b[0m\n\u001b[0m\u001b[1;32m   1279\u001b[0m                 \u001b[0;31m# Pin this session to the selected server if it's performing a\u001b[0m\u001b[0;34m\u001b[0m\u001b[0;34m\u001b[0m\u001b[0;34m\u001b[0m\u001b[0m\n\u001b[1;32m   1280\u001b[0m                 \u001b[0;31m# sharded transaction.\u001b[0m\u001b[0;34m\u001b[0m\u001b[0;34m\u001b[0m\u001b[0;34m\u001b[0m\u001b[0m\n",
      "\u001b[0;32m~/opt/anaconda3/lib/python3.8/site-packages/pymongo/topology.py\u001b[0m in \u001b[0;36mselect_server\u001b[0;34m(self, selector, server_selection_timeout, address)\u001b[0m\n\u001b[1;32m    239\u001b[0m                       address=None):\n\u001b[1;32m    240\u001b[0m         \u001b[0;34m\"\"\"Like select_servers, but choose a random server if several match.\"\"\"\u001b[0m\u001b[0;34m\u001b[0m\u001b[0;34m\u001b[0m\u001b[0m\n\u001b[0;32m--> 241\u001b[0;31m         return random.choice(self.select_servers(selector,\n\u001b[0m\u001b[1;32m    242\u001b[0m                                                  \u001b[0mserver_selection_timeout\u001b[0m\u001b[0;34m,\u001b[0m\u001b[0;34m\u001b[0m\u001b[0;34m\u001b[0m\u001b[0m\n\u001b[1;32m    243\u001b[0m                                                  address))\n",
      "\u001b[0;32m~/opt/anaconda3/lib/python3.8/site-packages/pymongo/topology.py\u001b[0m in \u001b[0;36mselect_servers\u001b[0;34m(self, selector, server_selection_timeout, address)\u001b[0m\n\u001b[1;32m    197\u001b[0m \u001b[0;34m\u001b[0m\u001b[0m\n\u001b[1;32m    198\u001b[0m         \u001b[0;32mwith\u001b[0m \u001b[0mself\u001b[0m\u001b[0;34m.\u001b[0m\u001b[0m_lock\u001b[0m\u001b[0;34m:\u001b[0m\u001b[0;34m\u001b[0m\u001b[0;34m\u001b[0m\u001b[0m\n\u001b[0;32m--> 199\u001b[0;31m             server_descriptions = self._select_servers_loop(\n\u001b[0m\u001b[1;32m    200\u001b[0m                 selector, server_timeout, address)\n\u001b[1;32m    201\u001b[0m \u001b[0;34m\u001b[0m\u001b[0m\n",
      "\u001b[0;32m~/opt/anaconda3/lib/python3.8/site-packages/pymongo/topology.py\u001b[0m in \u001b[0;36m_select_servers_loop\u001b[0;34m(self, selector, timeout, address)\u001b[0m\n\u001b[1;32m    213\u001b[0m             \u001b[0;31m# No suitable servers.\u001b[0m\u001b[0;34m\u001b[0m\u001b[0;34m\u001b[0m\u001b[0;34m\u001b[0m\u001b[0m\n\u001b[1;32m    214\u001b[0m             \u001b[0;32mif\u001b[0m \u001b[0mtimeout\u001b[0m \u001b[0;34m==\u001b[0m \u001b[0;36m0\u001b[0m \u001b[0;32mor\u001b[0m \u001b[0mnow\u001b[0m \u001b[0;34m>\u001b[0m \u001b[0mend_time\u001b[0m\u001b[0;34m:\u001b[0m\u001b[0;34m\u001b[0m\u001b[0;34m\u001b[0m\u001b[0m\n\u001b[0;32m--> 215\u001b[0;31m                 raise ServerSelectionTimeoutError(\n\u001b[0m\u001b[1;32m    216\u001b[0m                     \u001b[0;34m\"%s, Timeout: %ss, Topology Description: %r\"\u001b[0m \u001b[0;34m%\u001b[0m\u001b[0;34m\u001b[0m\u001b[0;34m\u001b[0m\u001b[0m\n\u001b[1;32m    217\u001b[0m                     (self._error_message(selector), timeout, self.description))\n",
      "\u001b[0;31mServerSelectionTimeoutError\u001b[0m: localhost:27017: timed out, Timeout: 30s, Topology Description: <TopologyDescription id: 6112dcf29a7fdca426e3afc0, topology_type: Single, servers: [<ServerDescription ('localhost', 27017) server_type: Unknown, rtt: None, error=NetworkTimeout('localhost:27017: timed out')>]>"
     ]
    }
   ],
   "source": [
    "htmls.count_documents({})"
   ]
  },
  {
   "cell_type": "code",
   "execution_count": null,
   "id": "b70d1538-150f-42c4-92e8-99fb068340e9",
   "metadata": {},
   "outputs": [],
   "source": [
    "for i in htmls.find({}):\n",
    "    soup = bs(i['html'], 'html.parser')\n",
    "    \n",
    "    try:\n",
    "        for i in range(0,8):\n",
    "            image =soup.find_all('div' , class_= 'ProductCard-container')[i].img['src']\n",
    "            name = soup.find_all('div' , class_= 'ProductCard-container')[i].a['data-sku']\n",
    "            r=requests.get(image)\n",
    "            with open(f'images5/{name}.png', \"wb\") as file:\n",
    "                file.write(r.content)\n",
    "    except:\n",
    "        continue\n",
    "        \n",
    "    \n"
   ]
  },
  {
   "cell_type": "markdown",
   "id": "0c6fee78-b842-44a3-be73-70fab9e37544",
   "metadata": {},
   "source": [
    "## Up to here"
   ]
  },
  {
   "cell_type": "code",
   "execution_count": null,
   "id": "cb000267-7ab6-421a-8455-88e69d728503",
   "metadata": {},
   "outputs": [],
   "source": [
    "for i in range(len(soup.find_all('div' , class_= 'ProductCard-container'))):\n",
    "        image= soup.find_all('div' , class_= 'ProductCard-container')[i].img['src']\n",
    "        name = soup.find_all('div' , class_= 'ProductCard-container')[i].a['data-sku']\n",
    "        r=requests.get(image)\n",
    "        with open(f'images5/{name}.png', \"wb\") as file:\n",
    "            file.write(r.content)\n",
    "    "
   ]
  },
  {
   "cell_type": "code",
   "execution_count": null,
   "id": "9ff66033-ed8c-4411-b4d3-cb0af743f884",
   "metadata": {},
   "outputs": [],
   "source": [
    "def parse_images2():\n",
    "    names = []\n",
    "    urls=[]\n",
    "    \n",
    "    driver = webdriver.Remote(\n",
    "            command_executor='http://localhost:4444/wd/hub',\n",
    "            desired_capabilities={\n",
    "                'browserName': 'firefox',\n",
    "                'javascriptEnabled': True\n",
    "            }\n",
    "        )\n",
    "    \n",
    "    \n",
    "    for i in range(1,4):\n",
    "        url = f'https://www.wayfair.com/furniture/sb0/accent-chairs-c416225.html?curpage={i}'\n",
    "        \n",
    "        driver.get(url)\n",
    "        sleep(1)\n",
    "        soup = bs(driver.page_source, 'html.parser')\n",
    "        \n",
    "        \n",
    "        for i in range(1,49):\n",
    "            try:\n",
    "                name = soup.find_all('div' , class_= 'ProductCard-container')[i].a['data-sku']\n",
    "                link= soup.find_all('div' , class_= 'ProductCard-container')[i].a['href']\n",
    "                image= soup.find_all('div' , class_= 'ProductCard-container')[i].img['src']\n",
    "\n",
    "                r=requests.get(image)\n",
    "                with open(f'images4/{name}.png', \"wb\") as file:\n",
    "                    file.write(r.content)\n",
    "\n",
    "                names.append(name)\n",
    "                urls.append(link)\n",
    "            except:\n",
    "                continue\n",
    "                \n",
    "    driver.close()\n",
    "        \n",
    "    return names, urls"
   ]
  }
 ],
 "metadata": {
  "kernelspec": {
   "display_name": "Python 3",
   "language": "python",
   "name": "python3"
  },
  "language_info": {
   "codemirror_mode": {
    "name": "ipython",
    "version": 3
   },
   "file_extension": ".py",
   "mimetype": "text/x-python",
   "name": "python",
   "nbconvert_exporter": "python",
   "pygments_lexer": "ipython3",
   "version": "3.8.10"
  }
 },
 "nbformat": 4,
 "nbformat_minor": 5
}

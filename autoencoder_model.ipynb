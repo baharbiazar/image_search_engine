{
 "cells": [
  {
   "cell_type": "code",
   "execution_count": 1,
   "id": "6c37ffaf",
   "metadata": {},
   "outputs": [],
   "source": [
    "import tensorflow as tf\n",
    "from matplotlib import pyplot as plt\n",
    "from tensorflow.keras.layers import Dense\n"
   ]
  },
  {
   "cell_type": "code",
   "execution_count": 2,
   "id": "049064f2",
   "metadata": {},
   "outputs": [],
   "source": [
    "import pandas as pd\n",
    "import numpy as np\n",
    "import os\n",
    "import cv2\n",
    "import pickle\n",
    "import json\n",
    "import numpy as np\n",
    "from scipy import spatial\n",
    "\n",
    "from keras.preprocessing.image import ImageDataGenerator\n",
    "from keras.models import Input\n",
    "from keras.layers import Input, Conv2D, MaxPooling2D, UpSampling2D\n",
    "from keras.models import Model, load_model\n",
    "from keras.callbacks import EarlyStopping\n",
    "\n",
    "import matplotlib.pyplot as plt\n",
    "%matplotlib inline\n",
    "\n",
    "from IPython.display import display, Image"
   ]
  },
  {
   "cell_type": "code",
   "execution_count": 9,
   "id": "47b03978",
   "metadata": {},
   "outputs": [
    {
     "name": "stdout",
     "output_type": "stream",
     "text": [
      "this W003548903.png\n"
     ]
    },
    {
     "data": {
      "image/png": "[encoded data removed]",
      "text/plain": [
       "<Figure size 432x288 with 1 Axes>"
      ]
     },
     "metadata": {
      "needs_background": "light"
     },
     "output_type": "display_data"
    },
    {
     "name": "stdout",
     "output_type": "stream",
     "text": [
      "[[255 255 255 ... 255 255 255]\n",
      " [255 255 255 ... 255 255 255]\n",
      " [255 255 255 ... 255 255 255]\n",
      " ...\n",
      " [255 255 255 ... 255 255 255]\n",
      " [255 255 255 ... 255 255 255]\n",
      " [255 255 255 ... 255 255 255]]\n"
     ]
    }
   ],
   "source": [
    "path = \"images/wayfair/chair\"\n",
    "for img in os.listdir(path):  # iterate over each image per dogs and cats\n",
    "     \n",
    "    img_array = cv2.imread(os.path.join(path,img) ,cv2.IMREAD_GRAYSCALE)  # convert to array\n",
    "    print('this',img)\n",
    "    plt.imshow(img_array, cmap='gray')  # graph it\n",
    "    plt.show()  # display!\n",
    "    print(img_array)\n",
    "\n",
    "    break  # we just want one for now so break\n"
   ]
  },
  {
   "cell_type": "code",
   "execution_count": 24,
   "id": "7fe6fb91",
   "metadata": {},
   "outputs": [],
   "source": [
    "def create_training_data(path, IMG_SIZE):\n",
    "    training_data= []\n",
    "    for img in os.listdir(path):\n",
    "        try:\n",
    "            img_array = cv2.imread(os.path.join(path,img), cv2.IMREAD_GRAYSCALE)\n",
    "            new_array = cv2.resize(img_array, (IMG_SIZE, IMG_SIZE))\n",
    "            training_data.append((img, new_array/255))\n",
    "        except:\n",
    "            pass\n",
    "        \n",
    "    return training_data"
   ]
  },
  {
   "cell_type": "code",
   "execution_count": 25,
   "id": "acaafa09",
   "metadata": {},
   "outputs": [],
   "source": [
    "path = \"images/wayfair/chair\"\n",
    "training_data = create_training_data(path, 28)"
   ]
  },
  {
   "cell_type": "code",
   "execution_count": 29,
   "id": "c0fcb983",
   "metadata": {},
   "outputs": [
    {
     "name": "stdout",
     "output_type": "stream",
     "text": [
      "8700 (28, 28)\n"
     ]
    }
   ],
   "source": [
    "print(len(training_data), training_data[0][1].shape)"
   ]
  },
  {
   "cell_type": "code",
   "execution_count": 35,
   "id": "72a0d5ff",
   "metadata": {},
   "outputs": [
    {
     "data": {
      "text/plain": [
       "(28, 28, 1)"
      ]
     },
     "execution_count": 35,
     "metadata": {},
     "output_type": "execute_result"
    }
   ],
   "source": [
    "IMG_SIZE = 28\n",
    "\n",
    "X = []\n",
    "y = []\n",
    "\n",
    "for name,features in training_data:\n",
    "    X.append(features)\n",
    "    y.append(name)\n",
    "\n",
    "\n",
    "#print(X[1].reshape(-1, IMG_SIZE, IMG_SIZE, 1), X[1].shape)\n",
    "\n",
    "X = np.array(X).reshape(-1, IMG_SIZE, IMG_SIZE, 1)  # make the last number 3 if you want to make COLOR images\n",
    "X[0].shape"
   ]
  },
  {
   "cell_type": "code",
   "execution_count": 36,
   "id": "a8a2f44c",
   "metadata": {},
   "outputs": [
    {
     "data": {
      "text/plain": [
       "(8700, 28, 28, 1)"
      ]
     },
     "execution_count": 36,
     "metadata": {},
     "output_type": "execute_result"
    }
   ],
   "source": [
    "X.shape"
   ]
  },
  {
   "cell_type": "code",
   "execution_count": 3,
   "id": "7c352f95",
   "metadata": {},
   "outputs": [],
   "source": [
    "epochs = 20\n",
    "batch_size = 300\n",
    "image_dimension = 28"
   ]
  },
  {
   "cell_type": "code",
   "execution_count": 44,
   "id": "0dae4a4e",
   "metadata": {},
   "outputs": [],
   "source": [
    "model = tf.keras.models.Sequential()\n",
    "\n",
    "model.add(Dense(128,  activation='relu', input_shape=(28,28,1)))\n",
    "model.add(Dense(64,  activation='relu'))\n",
    "model.add(Dense(2,    activation='linear', name=\"bottleneck\"))\n",
    "model.add(Dense(64,  activation='relu'))\n",
    "model.add(Dense(128,  activation='relu'))\n",
    "model.add(Dense(784,  activation='linear'))\n",
    "model.compile(loss='mean_squared_error', optimizer = 'adam')"
   ]
  },
  {
   "cell_type": "code",
   "execution_count": 45,
   "id": "ff10ad28",
   "metadata": {},
   "outputs": [
    {
     "name": "stdout",
     "output_type": "stream",
     "text": [
      "Model: \"sequential_2\"\n",
      "_________________________________________________________________\n",
      "Layer (type)                 Output Shape              Param #   \n",
      "=================================================================\n",
      "dense_10 (Dense)             (None, 28, 28, 128)       256       \n",
      "_________________________________________________________________\n",
      "dense_11 (Dense)             (None, 28, 28, 64)        8256      \n",
      "_________________________________________________________________\n",
      "bottleneck (Dense)           (None, 28, 28, 2)         130       \n",
      "_________________________________________________________________\n",
      "dense_12 (Dense)             (None, 28, 28, 64)        192       \n",
      "_________________________________________________________________\n",
      "dense_13 (Dense)             (None, 28, 28, 128)       8320      \n",
      "_________________________________________________________________\n",
      "dense_14 (Dense)             (None, 28, 28, 784)       101136    \n",
      "=================================================================\n",
      "Total params: 118,290\n",
      "Trainable params: 118,290\n",
      "Non-trainable params: 0\n",
      "_________________________________________________________________\n"
     ]
    }
   ],
   "source": [
    "model.summary()"
   ]
  },
  {
   "cell_type": "code",
   "execution_count": 49,
   "id": "9af8f729",
   "metadata": {},
   "outputs": [],
   "source": [
    "tf.config.run_functions_eagerly(True)"
   ]
  },
  {
   "cell_type": "code",
   "execution_count": 50,
   "id": "b5090d7a",
   "metadata": {},
   "outputs": [
    {
     "name": "stderr",
     "output_type": "stream",
     "text": [
      "/Users/bahar/opt/anaconda3/lib/python3.8/site-packages/tensorflow/python/data/ops/dataset_ops.py:3703: UserWarning: Even though the `tf.config.experimental_run_functions_eagerly` option is set, this option does not apply to tf.data functions. To force eager execution of tf.data functions, please use `tf.data.experimental.enable.debug_mode()`.\n",
      "  warnings.warn(\n"
     ]
    },
    {
     "name": "stdout",
     "output_type": "stream",
     "text": [
      "Epoch 1/20\n",
      "29/29 [==============================] - 135s 5s/step - loss: 0.3965\n",
      "Epoch 2/20\n",
      "29/29 [==============================] - 140s 5s/step - loss: 0.0307\n",
      "Epoch 3/20\n",
      "29/29 [==============================] - 146s 5s/step - loss: 0.0111\n",
      "Epoch 4/20\n",
      "29/29 [==============================] - 147s 5s/step - loss: 0.0049\n",
      "Epoch 5/20\n",
      "29/29 [==============================] - 130s 4s/step - loss: 0.0013\n",
      "Epoch 6/20\n",
      "29/29 [==============================] - 134s 5s/step - loss: 6.9188e-05\n",
      "Epoch 7/20\n",
      "29/29 [==============================] - 152s 5s/step - loss: 1.0788e-05\n",
      "Epoch 8/20\n",
      "29/29 [==============================] - 132s 5s/step - loss: 7.0515e-06\n",
      "Epoch 9/20\n",
      "29/29 [==============================] - 136s 5s/step - loss: 5.2619e-06\n",
      "Epoch 10/20\n",
      "29/29 [==============================] - 122s 4s/step - loss: 3.9300e-06\n",
      "Epoch 11/20\n",
      "29/29 [==============================] - 127s 4s/step - loss: 2.8253e-06\n",
      "Epoch 12/20\n",
      "29/29 [==============================] - 125s 4s/step - loss: 1.9508e-06\n",
      "Epoch 13/20\n",
      "29/29 [==============================] - 127s 4s/step - loss: 1.3421e-06\n",
      "Epoch 14/20\n",
      "29/29 [==============================] - 132s 5s/step - loss: 9.8050e-07\n",
      "Epoch 15/20\n",
      "29/29 [==============================] - 129s 4s/step - loss: 7.9151e-07\n",
      "Epoch 16/20\n",
      "29/29 [==============================] - 120s 4s/step - loss: 6.9439e-07\n",
      "Epoch 17/20\n",
      "29/29 [==============================] - 124s 4s/step - loss: 6.4425e-07\n",
      "Epoch 18/20\n",
      "29/29 [==============================] - 143s 5s/step - loss: 6.1591e-07\n",
      "Epoch 19/20\n",
      "29/29 [==============================] - 139s 5s/step - loss: 5.9711e-07\n",
      "Epoch 20/20\n",
      "29/29 [==============================] - 200s 7s/step - loss: 5.8263e-07\n"
     ]
    }
   ],
   "source": [
    "history = model.fit(X.astype(float), X.astype(float),\n",
    "                     batch_size=300,\n",
    "                     epochs=20)"
   ]
  },
  {
   "cell_type": "code",
   "execution_count": 54,
   "id": "d753812e",
   "metadata": {},
   "outputs": [
    {
     "data": {
      "image/png": "[encoded data removed]",
      "text/plain": [
       "<Figure size 432x288 with 1 Axes>"
      ]
     },
     "metadata": {
      "needs_background": "light"
     },
     "output_type": "display_data"
    },
    {
     "data": {
      "text/plain": [
       "<Figure size 432x288 with 0 Axes>"
      ]
     },
     "metadata": {},
     "output_type": "display_data"
    }
   ],
   "source": [
    "# Plot accuracy and loss for training and validation sets\n",
    "\n",
    "loss = history.history['loss']\n",
    "\n",
    "\n",
    "epochs = range(1,21)\n",
    "\n",
    "plt.plot(epochs, loss, 'bo', label='Training acc')\n",
    "\n",
    "plt.title('Training and validation accuracy')\n",
    "plt.legend()\n",
    "\n",
    "plt.figure()\n",
    "\n",
    "\n",
    "plt.show()"
   ]
  },
  {
   "cell_type": "code",
   "execution_count": 55,
   "id": "0093c30e",
   "metadata": {},
   "outputs": [],
   "source": [
    "# Save model\n",
    "model.save('./model/autoencoder.h5')"
   ]
  },
  {
   "cell_type": "code",
   "execution_count": null,
   "id": "454a5934",
   "metadata": {},
   "outputs": [],
   "source": []
  }
 ],
 "metadata": {
  "kernelspec": {
   "display_name": "Python 3",
   "language": "python",
   "name": "python3"
  },
  "language_info": {
   "codemirror_mode": {
    "name": "ipython",
    "version": 3
   },
   "file_extension": ".py",
   "mimetype": "text/x-python",
   "name": "python",
   "nbconvert_exporter": "python",
   "pygments_lexer": "ipython3",
   "version": "3.8.10"
  }
 },
 "nbformat": 4,
 "nbformat_minor": 5
}

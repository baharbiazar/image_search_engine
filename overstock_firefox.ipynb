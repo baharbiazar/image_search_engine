{
 "cells": [
  {
   "cell_type": "code",
   "execution_count": 2,
   "id": "b26146b5-b015-4fb9-a282-d6212206c018",
   "metadata": {},
   "outputs": [],
   "source": [
    "from pymongo import MongoClient\n",
    "import pprint\n",
    "\n",
    "import pandas as pd\n",
    "import matplotlib.pyplot as plt\n",
    "plt.style.use('fivethirtyeight')\n",
    "\n",
    "import json\n",
    "import time\n",
    "import copy \n",
    "from bson import ObjectId"
   ]
  },
  {
   "cell_type": "code",
   "execution_count": 1,
   "id": "295bf0cd-0ab0-4231-a37f-d0b99d353f88",
   "metadata": {},
   "outputs": [],
   "source": [
    "from time import sleep\n",
    "from bs4 import BeautifulSoup as bs\n",
    "from selenium import webdriver\n",
    "from selenium.webdriver.common.by import By\n",
    "import requests"
   ]
  },
  {
   "cell_type": "code",
   "execution_count": 3,
   "id": "2099dfef",
   "metadata": {},
   "outputs": [],
   "source": [
    "# Connect to the hosted MongoDB instance \n",
    "client = MongoClient('localhost', 27017)"
   ]
  },
  {
   "cell_type": "code",
   "execution_count": 4,
   "id": "8936f410",
   "metadata": {},
   "outputs": [],
   "source": [
    "# create or access already existing database\n",
    "db = client['overstock'] "
   ]
  },
  {
   "cell_type": "code",
   "execution_count": null,
   "id": "c10df5c9-a3e0-4640-9e3d-c337b6cbe4bf",
   "metadata": {},
   "outputs": [],
   "source": [
    "db.list_collection_names()"
   ]
  },
  {
   "cell_type": "code",
   "execution_count": 5,
   "id": "5cbae628-c804-4914-ac5c-cd2d69a8c29b",
   "metadata": {},
   "outputs": [],
   "source": [
    "# collection htmls_os\n",
    "htmls_os = db['htmls_os'] \n",
    "\n",
    "#htmls.insert_one({\"link\":url, 'html': str(soup)})"
   ]
  },
  {
   "cell_type": "code",
   "execution_count": null,
   "id": "3df72b24-f3ab-4daf-9dfb-9b8965d2413a",
   "metadata": {},
   "outputs": [],
   "source": [
    "htmls.delete_many({})"
   ]
  },
  {
   "cell_type": "code",
   "execution_count": null,
   "id": "8e075f83-23ab-4107-a900-53c45063a7ad",
   "metadata": {},
   "outputs": [],
   "source": [
    "htmls.insert_one({\"link\":url, 'html': str(soup)})"
   ]
  },
  {
   "cell_type": "code",
   "execution_count": null,
   "id": "6a829d3f-3a6e-4a49-aa61-11d65fb4b133",
   "metadata": {},
   "outputs": [],
   "source": [
    "#htmls.find_one({})"
   ]
  },
  {
   "cell_type": "markdown",
   "id": "252c644c",
   "metadata": {},
   "source": [
    "## Overstock parsing"
   ]
  },
  {
   "cell_type": "code",
   "execution_count": null,
   "id": "d982cdfa",
   "metadata": {},
   "outputs": [],
   "source": [
    "#wayfair_url = 'https://www.wayfair.com/furniture/sb0/accent-chairs-c416225.html'\n",
    "#r = requests.get(wayfair_url)\n",
    "#r"
   ]
  },
  {
   "cell_type": "code",
   "execution_count": null,
   "id": "b554d5c2",
   "metadata": {},
   "outputs": [],
   "source": [
    "#soup = BeautifulSoup(r.text, 'html.parser')"
   ]
  },
  {
   "cell_type": "code",
   "execution_count": null,
   "id": "406e2dfe",
   "metadata": {},
   "outputs": [],
   "source": [
    "#soup.find_all('ProductCard-container')"
   ]
  },
  {
   "cell_type": "code",
   "execution_count": null,
   "id": "1c731a31",
   "metadata": {},
   "outputs": [],
   "source": [
    "#soup.find_all('div', class_= 'ProductCard-container')"
   ]
  },
  {
   "cell_type": "code",
   "execution_count": null,
   "id": "89f0f472",
   "metadata": {},
   "outputs": [],
   "source": [
    "#soup.select('ProductCard-container')"
   ]
  },
  {
   "cell_type": "code",
   "execution_count": null,
   "id": "a7ae2c8b",
   "metadata": {},
   "outputs": [],
   "source": [
    "#pip install selenium"
   ]
  },
  {
   "cell_type": "code",
   "execution_count": null,
   "id": "f2dc7163",
   "metadata": {},
   "outputs": [],
   "source": [
    "400*56"
   ]
  },
  {
   "cell_type": "code",
   "execution_count": null,
   "id": "f6c2ab24-fada-4b0c-ab32-5c0d4ea9d133",
   "metadata": {},
   "outputs": [],
   "source": [
    "#driver.get(url)\n",
    "##sleep(4)\n",
    "\n",
    "#soup = bs(driver.page_source, 'html.parser')\n",
    "\n",
    "#driver.close()"
   ]
  },
  {
   "cell_type": "code",
   "execution_count": null,
   "id": "5fa93c74-5f57-44c1-8996-c819982b2eb6",
   "metadata": {},
   "outputs": [],
   "source": [
    "#while true:\n",
    "    # get pages \n",
    "    \n",
    "#........"
   ]
  },
  {
   "cell_type": "code",
   "execution_count": null,
   "id": "06c9ac54-6e2a-4680-b10c-9dbb87c8fb1b",
   "metadata": {},
   "outputs": [],
   "source": [
    "#soup"
   ]
  },
  {
   "cell_type": "code",
   "execution_count": null,
   "id": "142e178f-88fb-4d90-b7cf-e09bb5288752",
   "metadata": {},
   "outputs": [],
   "source": [
    "len(soup.find_all('div' , class_= 'ProductCard-container'))"
   ]
  },
  {
   "cell_type": "code",
   "execution_count": null,
   "id": "33ec5f75-cacf-4c10-82c6-ee6303a8f602",
   "metadata": {},
   "outputs": [],
   "source": [
    "soup.find_all('div' , class_= 'ProductCard-container')[2].a['href']"
   ]
  },
  {
   "cell_type": "code",
   "execution_count": null,
   "id": "6511004e-8bfa-48da-aaf9-a5046dcaf8c5",
   "metadata": {},
   "outputs": [],
   "source": [
    "test = soup.find_all('div' , class_= 'ProductCard-container')[0]\n",
    "#test.find_all('img')\n",
    "#test.img\n",
    "image= test.img['src'] # this grabs the attribute"
   ]
  },
  {
   "cell_type": "code",
   "execution_count": null,
   "id": "34bc0063-5c35-48d8-b82f-4f2a5e98234f",
   "metadata": {},
   "outputs": [],
   "source": [
    "r = requests.get(image)\n",
    "r"
   ]
  },
  {
   "cell_type": "code",
   "execution_count": null,
   "id": "684da087-3fe9-4c95-882a-0e32faac5418",
   "metadata": {},
   "outputs": [],
   "source": [
    "with open('images2/test.png', \"wb\") as file:\n",
    "    file.write(r.content)"
   ]
  },
  {
   "cell_type": "code",
   "execution_count": null,
   "id": "601cc9f3-06fc-4c25-91f4-133a2b0329a4",
   "metadata": {},
   "outputs": [],
   "source": [
    "def parse_images():\n",
    "    names = []\n",
    "    urls=[]\n",
    "    \n",
    "    \n",
    "    for i in range(1,4):\n",
    "        url = f'https://www.wayfair.com/furniture/sb0/accent-chairs-c416225.html?curpage={i}'\n",
    "        driver = webdriver.Remote(\n",
    "            command_executor='http://localhost:4444/wd/hub',\n",
    "            desired_capabilities={\n",
    "                'browserName': 'firefox',\n",
    "                'javascriptEnabled': True\n",
    "            }\n",
    "        )\n",
    "        driver.get(url)\n",
    "        sleep(1)\n",
    "        soup = bs(driver.page_source, 'html.parser')\n",
    "        driver.close()\n",
    "        \n",
    "        for i in range(1,49):\n",
    "            try:\n",
    "                name = soup.find_all('div' , class_= 'ProductCard-container')[i].a['data-sku']\n",
    "                link= soup.find_all('div' , class_= 'ProductCard-container')[i].a['href']\n",
    "                image= soup.find_all('div' , class_= 'ProductCard-container')[i].img['src']\n",
    "\n",
    "                r=requests.get(image)\n",
    "                with open(f'images4/{name}.png', \"wb\") as file:\n",
    "                    file.write(r.content)\n",
    "\n",
    "                names.append(name)\n",
    "                urls.append(link)\n",
    "            except:\n",
    "                continue\n",
    "        \n",
    "    return names, urls\n",
    "            \n",
    " "
   ]
  },
  {
   "cell_type": "markdown",
   "id": "eb7eeaeb-97d8-4246-a51a-fdcde9cc3d40",
   "metadata": {},
   "source": [
    "## Here"
   ]
  },
  {
   "cell_type": "code",
   "execution_count": 39,
   "id": "9fc22720-e26e-4058-a5e2-5a80c07cb67f",
   "metadata": {},
   "outputs": [
    {
     "data": {
      "text/plain": [
       "<pymongo.results.DeleteResult at 0x7fb1fc1b7ec0>"
      ]
     },
     "execution_count": 39,
     "metadata": {},
     "output_type": "execute_result"
    }
   ],
   "source": [
    "htmls_os.delete_many({})"
   ]
  },
  {
   "cell_type": "code",
   "execution_count": 44,
   "id": "ab69c3d1-599f-45c6-ac06-4d987189eb38",
   "metadata": {},
   "outputs": [],
   "source": [
    "def parse_html():\n",
    "    driver = webdriver.Remote(\n",
    "            command_executor='http://localhost:4444/wd/hub',\n",
    "            desired_capabilities={\n",
    "                'browserName': 'firefox',\n",
    "                'javascriptEnabled': True\n",
    "            }\n",
    "        )\n",
    "    \n",
    "   \n",
    "    for i in range(1,29):\n",
    "        try:\n",
    "            url = f'https://www.overstock.com/Home-Garden/Living-Room-Chairs/Arm-Chairs,/chair-type,/2737/subcat.html?page={i}'\n",
    "            driver.get(url)\n",
    "            sleep(5)\n",
    "            soup = bs(driver.page_source, 'html.parser')\n",
    "            htmls_os.insert_one({\"link\":url, 'html': str(soup)})\n",
    "            print(i)\n",
    "\n",
    "        except:\n",
    "            continue\n",
    "        \n",
    "    driver.close()\n",
    "\n",
    "    \n",
    " "
   ]
  },
  {
   "cell_type": "code",
   "execution_count": 45,
   "id": "886ffd2d-a531-45dc-a772-fcf574f98118",
   "metadata": {},
   "outputs": [
    {
     "name": "stdout",
     "output_type": "stream",
     "text": [
      "1\n",
      "2\n",
      "3\n",
      "4\n",
      "5\n",
      "6\n",
      "7\n",
      "8\n",
      "9\n",
      "10\n",
      "11\n",
      "12\n",
      "13\n",
      "14\n",
      "15\n",
      "16\n",
      "17\n",
      "18\n",
      "19\n",
      "20\n",
      "21\n",
      "22\n",
      "23\n",
      "24\n",
      "25\n",
      "26\n",
      "27\n",
      "28\n"
     ]
    }
   ],
   "source": [
    "parse_html()"
   ]
  },
  {
   "cell_type": "code",
   "execution_count": null,
   "id": "98e5acbe-fb24-4688-912e-9b7c163b6d29",
   "metadata": {},
   "outputs": [],
   "source": []
  },
  {
   "cell_type": "code",
   "execution_count": 46,
   "id": "49138cbe-a777-46ec-80c9-7266d445f260",
   "metadata": {},
   "outputs": [
    {
     "data": {
      "text/plain": [
       "87"
      ]
     },
     "execution_count": 46,
     "metadata": {},
     "output_type": "execute_result"
    }
   ],
   "source": [
    "htmls_os.count_documents({})"
   ]
  },
  {
   "cell_type": "code",
   "execution_count": 47,
   "id": "b70d1538-150f-42c4-92e8-99fb068340e9",
   "metadata": {},
   "outputs": [],
   "source": [
    "for i in htmls_os.find({}):\n",
    "    soup = bs(i['html'], 'html.parser')\n",
    "    \n",
    "    try:\n",
    "        for i in range(len(soup.find_all('div' , class_= 'productCardFrontImageContainer'))):\n",
    "            image = soup.find_all('div' , class_= 'productCardFrontImageContainer')[i].img['src']\n",
    "            name = soup.find_all('div' , class_= 'list-creation list-modal wishlistFavContainerNew')[i]['data-sku']\n",
    "            r=requests.get(image)\n",
    "            with open(f'os_imgs/{name}.png', \"wb\") as file:\n",
    "                file.write(r.content)\n",
    "    except:\n",
    "        continue\n",
    "        \n",
    "    \n"
   ]
  },
  {
   "cell_type": "code",
   "execution_count": null,
   "id": "1aeb5f53-a36f-4a21-a688-a7329f6aedf6",
   "metadata": {},
   "outputs": [],
   "source": [
    "for i in range(9):\n",
    "    image = soup.find_all('div' , class_= 'productCardFrontImageContainer')[i].img['src']\n",
    "    name = soup.find_all('div' , class_= 'list-creation list-modal wishlistFavContainerNew')[i]['data-sku']\n",
    "    r=requests.get(image)\n",
    "    with open(f'os_imgs/{name}.png', \"wb\") as file:\n",
    "        file.write(r.content)"
   ]
  },
  {
   "cell_type": "markdown",
   "id": "0c6fee78-b842-44a3-be73-70fab9e37544",
   "metadata": {},
   "source": [
    "## Up to here"
   ]
  },
  {
   "cell_type": "markdown",
   "id": "a8d6ee63-dab0-4858-bd85-ecc175f002f1",
   "metadata": {},
   "source": [
    "## Test OS"
   ]
  },
  {
   "cell_type": "code",
   "execution_count": null,
   "id": "6c290ebf-2edf-45ae-8d13-d9ff2a9b4039",
   "metadata": {},
   "outputs": [],
   "source": [
    "driver.close()"
   ]
  },
  {
   "cell_type": "code",
   "execution_count": 36,
   "id": "d26526e2-9f20-4aa8-8378-b424b045124d",
   "metadata": {},
   "outputs": [],
   "source": [
    "driver = webdriver.Remote(\n",
    "            command_executor='http://localhost:4444/wd/hub',\n",
    "            desired_capabilities={\n",
    "                'browserName': 'firefox',\n",
    "                'javascriptEnabled': True\n",
    "            }\n",
    "        )\n",
    "url = f'https://www.overstock.com/Home-Garden/Living-Room-Chairs/Accent-Chairs,/chair-type,/2737/subcat.html?page=3'\n",
    "driver.get(url)\n",
    "sleep(10)\n",
    "soup = bs(driver.page_source, 'html.parser')\n",
    "driver.close()"
   ]
  },
  {
   "cell_type": "code",
   "execution_count": 8,
   "id": "10b15cba-344d-4efe-8558-58581130bfbb",
   "metadata": {},
   "outputs": [
    {
     "data": {
      "text/plain": [
       "'24302508'"
      ]
     },
     "execution_count": 8,
     "metadata": {},
     "output_type": "execute_result"
    }
   ],
   "source": [
    "soup.find_all('div' , class_= 'list-creation list-modal wishlistFavContainerNew')[0]['data-sku']"
   ]
  },
  {
   "cell_type": "code",
   "execution_count": 37,
   "id": "89593695-2447-4b39-98b0-e48236f9cefd",
   "metadata": {},
   "outputs": [
    {
     "data": {
      "text/plain": [
       "9"
      ]
     },
     "execution_count": 37,
     "metadata": {},
     "output_type": "execute_result"
    }
   ],
   "source": [
    "len(soup.find_all('div' , class_= 'productCardFrontImageContainer'))"
   ]
  },
  {
   "cell_type": "code",
   "execution_count": 9,
   "id": "ada43dd1-a139-4c5a-95ad-f59f3c6c6a71",
   "metadata": {},
   "outputs": [],
   "source": [
    "for i in range(9):\n",
    "    image = soup.find_all('div' , class_= 'productCardFrontImageContainer')[i].img['src']\n",
    "    name = soup.find_all('div' , class_= 'list-creation list-modal wishlistFavContainerNew')[i]['data-sku']\n",
    "    r=requests.get(image)\n",
    "    with open(f'os_imgs/{name}.png', \"wb\") as file:\n",
    "        file.write(r.content)"
   ]
  },
  {
   "cell_type": "code",
   "execution_count": null,
   "id": "72d75256-8788-4c6d-add1-81587eb99988",
   "metadata": {},
   "outputs": [],
   "source": []
  },
  {
   "cell_type": "markdown",
   "id": "b3f16ae6-0f53-4b22-a085-2473638ca32e",
   "metadata": {},
   "source": [
    "## Test ENDS"
   ]
  },
  {
   "cell_type": "code",
   "execution_count": null,
   "id": "cb000267-7ab6-421a-8455-88e69d728503",
   "metadata": {},
   "outputs": [],
   "source": [
    "for i in range(len(soup.find_all('div' , class_= 'ProductCard-container'))):\n",
    "        image= soup.find_all('div' , class_= 'ProductCard-container')[i].img['src']\n",
    "        name = soup.find_all('div' , class_= 'ProductCard-container')[i].a['data-sku']\n",
    "        r=requests.get(image)\n",
    "        with open(f'os_imgs/{name}.png', \"wb\") as file:\n",
    "            file.write(r.content)\n",
    "    "
   ]
  },
  {
   "cell_type": "code",
   "execution_count": null,
   "id": "9ff66033-ed8c-4411-b4d3-cb0af743f884",
   "metadata": {},
   "outputs": [],
   "source": [
    "def parse_images2():\n",
    "    names = []\n",
    "    urls=[]\n",
    "    \n",
    "    driver = webdriver.Remote(\n",
    "            command_executor='http://localhost:4444/wd/hub',\n",
    "            desired_capabilities={\n",
    "                'browserName': 'firefox',\n",
    "                'javascriptEnabled': True\n",
    "            }\n",
    "        )\n",
    "    \n",
    "    \n",
    "    for i in range(1,4):\n",
    "        url = f'https://www.wayfair.com/furniture/sb0/accent-chairs-c416225.html?curpage={i}'\n",
    "        \n",
    "        driver.get(url)\n",
    "        sleep(1)\n",
    "        soup = bs(driver.page_source, 'html.parser')\n",
    "        \n",
    "        \n",
    "        for i in range(1,49):\n",
    "            try:\n",
    "                name = soup.find_all('div' , class_= 'ProductCard-container')[i].a['data-sku']\n",
    "                link= soup.find_all('div' , class_= 'ProductCard-container')[i].a['href']\n",
    "                image= soup.find_all('div' , class_= 'ProductCard-container')[i].img['src']\n",
    "\n",
    "                r=requests.get(image)\n",
    "                with open(f'images4/{name}.png', \"wb\") as file:\n",
    "                    file.write(r.content)\n",
    "\n",
    "                names.append(name)\n",
    "                urls.append(link)\n",
    "            except:\n",
    "                continue\n",
    "                \n",
    "    driver.close()\n",
    "        \n",
    "    return names, urls"
   ]
  }
 ],
 "metadata": {
  "kernelspec": {
   "display_name": "Python 3",
   "language": "python",
   "name": "python3"
  },
  "language_info": {
   "codemirror_mode": {
    "name": "ipython",
    "version": 3
   },
   "file_extension": ".py",
   "mimetype": "text/x-python",
   "name": "python",
   "nbconvert_exporter": "python",
   "pygments_lexer": "ipython3",
   "version": "3.8.10"
  }
 },
 "nbformat": 4,
 "nbformat_minor": 5
}
